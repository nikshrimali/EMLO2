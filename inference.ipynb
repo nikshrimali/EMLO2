{
 "cells": [
  {
   "cell_type": "code",
   "execution_count": null,
   "metadata": {},
   "outputs": [],
   "source": [
    "import requests\n",
    "\n",
    "res = requests.post(\"http://localhost:8080/predictions/cifar-resnet/1.0\", files={'data': open('/home/ubuntu/EMLO2/test_images/10003_ship.png', 'rb')})\n",
    "\n",
    "res.json()"
   ]
  }
 ],
 "metadata": {
  "language_info": {
   "name": "python"
  },
  "orig_nbformat": 4
 },
 "nbformat": 4,
 "nbformat_minor": 2
}
